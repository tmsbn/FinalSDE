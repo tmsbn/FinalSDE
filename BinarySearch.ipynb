{
 "cells": [
  {
   "cell_type": "markdown",
   "metadata": {},
   "source": [
    "# Bineary Serach"
   ]
  },
  {
   "cell_type": "code",
   "execution_count": 13,
   "metadata": {},
   "outputs": [
    {
     "name": "stdout",
     "output_type": "stream",
     "text": [
      "[1, 4, 6, 8, 9] 0\n",
      "1\n",
      "2\n",
      "3\n",
      "4\n"
     ]
    }
   ],
   "source": [
    "def binary_search(arr, low, high, search):\n",
    "\n",
    "    while low <= high:\n",
    "        mid = (low + high) // 2\n",
    "\n",
    "        if search < arr[mid]:\n",
    "            high = mid - 1\n",
    "        elif search > arr[mid]:\n",
    "            low = mid + 1\n",
    "        else:\n",
    "            return mid\n",
    "    return -1\n",
    "\n",
    "sample_arr = [6, 4, 1, 8 ,9]\n",
    "sample_arr.sort()\n",
    "print(sample_arr, end=' ')\n",
    "\n",
    "for num in sample_arr:\n",
    "    result = binary_search(sample_arr, 0, len(sample_arr) - 1, num)\n",
    "    print(result)\n"
   ]
  },
  {
   "cell_type": "markdown",
   "metadata": {},
   "source": [
    "###  Common mistakes\n",
    "- Low should be mid - 1 instead of mid because mid can be elimiated, else we can't find the last element for vanilla binary search\n",
    "- Should be arr[mid] instead of mid, don't confuse index and value\n",
    "- Make sure the while loop has an equality comparison. Otherwise, we'd skip the loop and miss the potential match for the edge case of a one-element array.\n",
    "\n"
   ]
  },
  {
   "cell_type": "markdown",
   "metadata": {},
   "source": [
    "In most programming languages, we calculate mid with left + floor((right-left) / 2) to avoid potential integer overflow. However, in Python, we do not need to worry about left + right integer overflow because Python3 integers can be arbitrarily large.\n"
   ]
  },
  {
   "cell_type": "markdown",
   "metadata": {},
   "source": [
    "### Find the First True in a Sorted Boolean Array\n",
    "\n",
    "An array of boolean values is divided into two sections; the left section consists of all false and the right section consists of all true. Find the First True in a Sorted Boolean Array of the right section, i.e. the index of the first true element. If there is no true element, return -1."
   ]
  },
  {
   "cell_type": "code",
   "execution_count": 19,
   "metadata": {},
   "outputs": [
    {
     "name": "stdout",
     "output_type": "stream",
     "text": [
      "-1 -1\n",
      "0 0\n",
      "1 1\n",
      "3 3\n"
     ]
    }
   ],
   "source": [
    "from typing import List\n",
    "\n",
    "def find_boundary(arr: List[bool]) -> int:\n",
    "    \n",
    "    low, high = 0, len(arr) - 1\n",
    "    \n",
    "    while low <= high:\n",
    "        \n",
    "        mid = (low + high) // 2\n",
    "        \n",
    "        if arr[mid]:\n",
    "            # If first element or element before this element is false then answer\n",
    "            if (mid == 0) or (arr[mid - 1] == False):\n",
    "                return mid\n",
    "            else:\n",
    "                high = mid - 1\n",
    "        else:\n",
    "            low = mid + 1\n",
    "    \n",
    "    return -1\n",
    "\n",
    "# If true, store the result, and continue search, until condition is not satisfied\n",
    "def find_boundary2(arr):\n",
    "\n",
    "    low, high = 0, len(arr) - 1\n",
    "    result = - 1\n",
    "\n",
    "    while low <= high:\n",
    "\n",
    "        mid = (low + high) // 2\n",
    "\n",
    "        if arr[mid]:\n",
    "            result = mid\n",
    "            high = mid - 1\n",
    "        else:\n",
    "            low = mid + 1\n",
    "\n",
    "    return result\n",
    "\n",
    "test_cases = [\n",
    "[False],\n",
    "[True],\n",
    "[False, True],\n",
    "[False, False, False, True]\n",
    "]\n",
    "\n",
    "for test_case in test_cases:\n",
    "    result = find_boundary(test_case)\n",
    "    result2 = find_boundary2(test_case)\n",
    "    print(result, result2)"
   ]
  },
  {
   "cell_type": "code",
   "execution_count": null,
   "metadata": {},
   "outputs": [],
   "source": []
  },
  {
   "cell_type": "markdown",
   "metadata": {},
   "source": [
    "### Monotonic Functions\n",
    "\n",
    "Functions that are non increasing or non decreasing(different from increasing or decreasing). "
   ]
  },
  {
   "cell_type": "markdown",
   "metadata": {},
   "source": []
  },
  {
   "cell_type": "markdown",
   "metadata": {},
   "source": []
  }
 ],
 "metadata": {
  "kernelspec": {
   "display_name": "Python 3",
   "language": "python",
   "name": "python3"
  },
  "language_info": {
   "codemirror_mode": {
    "name": "ipython",
    "version": 3
   },
   "file_extension": ".py",
   "mimetype": "text/x-python",
   "name": "python",
   "nbconvert_exporter": "python",
   "pygments_lexer": "ipython3",
   "version": "3.11.5"
  }
 },
 "nbformat": 4,
 "nbformat_minor": 2
}
